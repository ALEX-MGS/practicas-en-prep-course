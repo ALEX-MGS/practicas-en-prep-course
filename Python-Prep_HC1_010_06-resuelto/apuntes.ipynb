{
 "cells": [
  {
   "cell_type": "code",
   "execution_count": 4,
   "metadata": {},
   "outputs": [],
   "source": [
    "def extrae_primos_de_lista(lista):\n",
    "    lista_primos = []\n",
    "    for elemento in lista:\n",
    "        if (es_primo):\n",
    "            es_primo = True\n",
    "            for i in range(2, nro):\n",
    "                if nro % i == 0:\n",
    "                    es_primo = False\n",
    "                    break\n",
    "        lista_primos.append(elemento)\n",
    "    return lista_primos"
   ]
  },
  {
   "cell_type": "code",
   "execution_count": 7,
   "metadata": {},
   "outputs": [],
   "source": [
    "def ListaPrimos(desde, hasta):\n",
    "    '''\n",
    "    Esta función devuelve una lista con los números primos entre los valores \"desde\" y \"hasta\"\n",
    "    pasados como parámetro, siendo ambos inclusivos.\n",
    "    En caso de que alguno de los parámetros no sea de tipo entero y/o no sea mayor a cero, debe retornar nulo.\n",
    "    En caso de que el segundo parámetro sea mayor al primero, pero ambos mayores que cero,\n",
    "    debe retornar una lista vacía.\n",
    "    Recibe un argumento:\n",
    "        desde: Será el número a partir del cual se toma el rango\n",
    "        hasta: Será el número hasta el cual se tome el rango\n",
    "    Ej:\n",
    "        ListaPrimos(7,15) debe retornar [7,11,13]\n",
    "        ListaPrimos(100,99) debe retornar []\n",
    "        ListaPrimos(1,7) debe retonan [1,2,3,5,7]\n",
    "    '''\n",
    "    #Tu código aca:\n",
    "    if (type(desde)) != int:\n",
    "        result=None\n",
    "    elif (type(hasta)) != int:\n",
    "        result=None\n",
    "    else:\n",
    "        if desde < 1:\n",
    "            result=None\n",
    "        elif hasta < 1:\n",
    "            result=None\n",
    "        else:\n",
    "            if desde > hasta:\n",
    "                result=[]\n",
    "            else:\n",
    "                result=[]\n",
    "                listanum=[]\n",
    "                for element in range(desde,(hasta+1)):\n",
    "                    listanum.append(element)\n",
    "                result=(extrae_primos_de_lista(listanum))    \n",
    "    return result"
   ]
  },
  {
   "cell_type": "code",
   "execution_count": 8,
   "metadata": {},
   "outputs": [
    {
     "ename": "UnboundLocalError",
     "evalue": "local variable 'es_primo' referenced before assignment",
     "output_type": "error",
     "traceback": [
      "\u001b[0;31m---------------------------------------------------------------------------\u001b[0m",
      "\u001b[0;31mUnboundLocalError\u001b[0m                         Traceback (most recent call last)",
      "\u001b[1;32m/Users/eduardomoralesramirez/Documents/git,python/Python-Prep_HC1_010_06/apuntes.ipynb Cell 3'\u001b[0m in \u001b[0;36m<cell line: 1>\u001b[0;34m()\u001b[0m\n\u001b[0;32m----> <a href='vscode-notebook-cell:/Users/eduardomoralesramirez/Documents/git%2Cpython/Python-Prep_HC1_010_06/apuntes.ipynb#ch0000002?line=0'>1</a>\u001b[0m \u001b[39mprint\u001b[39m(ListaPrimos(\u001b[39m1\u001b[39;49m,\u001b[39m11\u001b[39;49m))\n\u001b[1;32m      <a href='vscode-notebook-cell:/Users/eduardomoralesramirez/Documents/git%2Cpython/Python-Prep_HC1_010_06/apuntes.ipynb#ch0000002?line=1'>2</a>\u001b[0m \u001b[39mprint\u001b[39m(ListaPrimos(\u001b[39m\"\u001b[39m\u001b[39m0\u001b[39m\u001b[39m\"\u001b[39m,\u001b[39m0\u001b[39m))\n\u001b[1;32m      <a href='vscode-notebook-cell:/Users/eduardomoralesramirez/Documents/git%2Cpython/Python-Prep_HC1_010_06/apuntes.ipynb#ch0000002?line=2'>3</a>\u001b[0m \u001b[39mprint\u001b[39m(ListaPrimos(\u001b[39m66\u001b[39m,\u001b[39m77\u001b[39m))\n",
      "\u001b[1;32m/Users/eduardomoralesramirez/Documents/git,python/Python-Prep_HC1_010_06/apuntes.ipynb Cell 2'\u001b[0m in \u001b[0;36mListaPrimos\u001b[0;34m(desde, hasta)\u001b[0m\n\u001b[1;32m     <a href='vscode-notebook-cell:/Users/eduardomoralesramirez/Documents/git%2Cpython/Python-Prep_HC1_010_06/apuntes.ipynb#ch0000001?line=31'>32</a>\u001b[0m             \u001b[39mfor\u001b[39;00m element \u001b[39min\u001b[39;00m \u001b[39mrange\u001b[39m(desde,(hasta\u001b[39m+\u001b[39m\u001b[39m1\u001b[39m)):\n\u001b[1;32m     <a href='vscode-notebook-cell:/Users/eduardomoralesramirez/Documents/git%2Cpython/Python-Prep_HC1_010_06/apuntes.ipynb#ch0000001?line=32'>33</a>\u001b[0m                 listanum\u001b[39m.\u001b[39mappend(element)\n\u001b[0;32m---> <a href='vscode-notebook-cell:/Users/eduardomoralesramirez/Documents/git%2Cpython/Python-Prep_HC1_010_06/apuntes.ipynb#ch0000001?line=33'>34</a>\u001b[0m             result\u001b[39m=\u001b[39m(extrae_primos_de_lista(listanum))    \n\u001b[1;32m     <a href='vscode-notebook-cell:/Users/eduardomoralesramirez/Documents/git%2Cpython/Python-Prep_HC1_010_06/apuntes.ipynb#ch0000001?line=34'>35</a>\u001b[0m \u001b[39mreturn\u001b[39;00m result\n",
      "\u001b[1;32m/Users/eduardomoralesramirez/Documents/git,python/Python-Prep_HC1_010_06/apuntes.ipynb Cell 1'\u001b[0m in \u001b[0;36mextrae_primos_de_lista\u001b[0;34m(lista)\u001b[0m\n\u001b[1;32m      <a href='vscode-notebook-cell:/Users/eduardomoralesramirez/Documents/git%2Cpython/Python-Prep_HC1_010_06/apuntes.ipynb#ch0000000?line=1'>2</a>\u001b[0m lista_primos \u001b[39m=\u001b[39m []\n\u001b[1;32m      <a href='vscode-notebook-cell:/Users/eduardomoralesramirez/Documents/git%2Cpython/Python-Prep_HC1_010_06/apuntes.ipynb#ch0000000?line=2'>3</a>\u001b[0m \u001b[39mfor\u001b[39;00m elemento \u001b[39min\u001b[39;00m lista:\n\u001b[0;32m----> <a href='vscode-notebook-cell:/Users/eduardomoralesramirez/Documents/git%2Cpython/Python-Prep_HC1_010_06/apuntes.ipynb#ch0000000?line=3'>4</a>\u001b[0m     \u001b[39mif\u001b[39;00m (es_primo):\n\u001b[1;32m      <a href='vscode-notebook-cell:/Users/eduardomoralesramirez/Documents/git%2Cpython/Python-Prep_HC1_010_06/apuntes.ipynb#ch0000000?line=4'>5</a>\u001b[0m         es_primo \u001b[39m=\u001b[39m \u001b[39mTrue\u001b[39;00m\n\u001b[1;32m      <a href='vscode-notebook-cell:/Users/eduardomoralesramirez/Documents/git%2Cpython/Python-Prep_HC1_010_06/apuntes.ipynb#ch0000000?line=5'>6</a>\u001b[0m         \u001b[39mfor\u001b[39;00m i \u001b[39min\u001b[39;00m \u001b[39mrange\u001b[39m(\u001b[39m2\u001b[39m, nro):\n",
      "\u001b[0;31mUnboundLocalError\u001b[0m: local variable 'es_primo' referenced before assignment"
     ]
    }
   ],
   "source": [
    "print(ListaPrimos(1,11))\n",
    "print(ListaPrimos(\"0\",0))\n",
    "print(ListaPrimos(66,77))\n",
    "print(ListaPrimos(0,\"66\"))"
   ]
  },
  {
   "cell_type": "code",
   "execution_count": null,
   "metadata": {},
   "outputs": [],
   "source": [
    "    #Tu código aca:\n",
    "    lista_de_divisibles = []\n",
    "    count=1\n",
    "    while count < tope+1:\n",
    "        if (count % numero) == 0:\n",
    "            lista_de_divisibles.append(count)\n",
    "        count+=1\n",
    "    return lista_de_divisibles"
   ]
  },
  {
   "cell_type": "code",
   "execution_count": null,
   "metadata": {},
   "outputs": [],
   "source": [
    "    #Tu código aca:\n",
    "\n",
    "    numexponenciado=(numero**exponente)\n",
    "    \n",
    "    return numexponenciado"
   ]
  },
  {
   "cell_type": "code",
   "execution_count": null,
   "metadata": {},
   "outputs": [],
   "source": [
    "    #Tu código aca:\n",
    "    if type(lista) != list:\n",
    "        listfinal=\"nulo\"\n",
    "    else:\n",
    "        listfinal=[]\n",
    "        for element in lista:\n",
    "            if type(lista(element)) == list:\n",
    "                for data in lista(element):\n",
    "                    listfinal.append(lista(element))\n",
    "\n",
    "\n",
    "    return listfinal"
   ]
  },
  {
   "cell_type": "code",
   "execution_count": null,
   "metadata": {},
   "outputs": [],
   "source": [
    "     #Tu código aca:\n",
    "    result=0\n",
    "    if type(numero)!= int:\n",
    "        result = None\n",
    "    if numero < 0 :\n",
    "        result = None\n",
    "    \n",
    "    else:\n",
    "        num = numero\n",
    "        if numero > 1:\n",
    "            while numero > 2:\n",
    "                numero-=1\n",
    "                num = num * numero\n",
    "                result = num\n",
    "        else:\n",
    "           result= numero**numero\n",
    "    return result"
   ]
  },
  {
   "cell_type": "code",
   "execution_count": null,
   "metadata": {},
   "outputs": [],
   "source": [
    "    #Tu código aca:\n",
    "    if (type(desde)) != int:\n",
    "        result=None\n",
    "    elif (type(hasta)) != int:\n",
    "        result=None\n",
    "    else:\n",
    "        if desde < 1:\n",
    "            result=None\n",
    "        elif hasta < 1:\n",
    "            result=None\n",
    "        else:\n",
    "            if desde > hasta:\n",
    "                result=[]\n",
    "            else:\n",
    "                result=[]\n",
    "                listanum=[]\n",
    "                for element in range(desde,(hasta+1)):\n",
    "                    listanum.append(element)\n",
    "                result=(extrae_primos_de_lista(listanum))    \n",
    "    return result"
   ]
  },
  {
   "cell_type": "code",
   "execution_count": null,
   "metadata": {},
   "outputs": [],
   "source": []
  },
  {
   "cell_type": "code",
   "execution_count": 11,
   "metadata": {},
   "outputs": [],
   "source": [
    "    def extrae_primo(lista):\n",
    "        lista_primos = []\n",
    "        i=()\n",
    "        for elemento in lista:\n",
    "            for i in range(2, elemento):\n",
    "                if elemento % i == 0:\n",
    "                    break\n",
    "                else:\n",
    "                    lista_primos.append(elemento)\n",
    "        return lista_primos"
   ]
  },
  {
   "cell_type": "markdown",
   "metadata": {},
   "source": [
    "correcto"
   ]
  },
  {
   "cell_type": "code",
   "execution_count": 6,
   "metadata": {},
   "outputs": [],
   "source": [
    "    def listaoprueba(desde,hasta):\n",
    "        if (type(desde)) != int:\n",
    "            result=None\n",
    "        elif (type(hasta)) != int:\n",
    "            result=None\n",
    "        else:\n",
    "            if desde < 1:\n",
    "                result=None\n",
    "            elif hasta < 1:\n",
    "                result=None\n",
    "            else:\n",
    "                if desde > hasta:\n",
    "                    result=[]\n",
    "                else:\n",
    "                    ae=()\n",
    "                    result=[]\n",
    "                    listanum=[]\n",
    "                    for element in range(desde,hasta+1):\n",
    "                        ae = (range(2,element))\n",
    "                        for itera in ae:\n",
    "                            if element % itera == 0:\n",
    "                                break                            \n",
    "                        else:\n",
    "                            result.append(element)\n",
    "                                \n",
    "        return result\n",
    "\n"
   ]
  },
  {
   "cell_type": "code",
   "execution_count": 3,
   "metadata": {},
   "outputs": [
    {
     "name": "stdout",
     "output_type": "stream",
     "text": [
      "[1, 2, 3, 5, 7, 11]\n",
      "[67, 71, 73]\n"
     ]
    }
   ],
   "source": [
    "print(listaoprueba(1,11))\n",
    "\n",
    "print(listaoprueba(66,77))\n",
    "#print(extrae_primo(\"0\",0))\n",
    "#print(extrae_primo(0,\"66\"))\n",
    "#print(extrae_primo(\"0\",0))\n",
    "#print(extrae_primo(\"0\",0))\n",
    "#print(extrae_primo(\"0\",0))"
   ]
  },
  {
   "cell_type": "code",
   "execution_count": 4,
   "metadata": {},
   "outputs": [],
   "source": [
    "def extrae_primos_de_lista(lista):\n",
    "    lista_primos = []\n",
    "    for elemento in lista:\n",
    "        if (int(es_primo)):\n",
    "            es_primo = True\n",
    "            for i in range(2, nro):\n",
    "                if nro % i == 0:\n",
    "                    es_primo = False\n",
    "                    break\n",
    "        lista_primos.append(elemento)\n",
    "    return lista_primos\n",
    "    \n"
   ]
  },
  {
   "cell_type": "code",
   "execution_count": 5,
   "metadata": {},
   "outputs": [
    {
     "ename": "TypeError",
     "evalue": "extrae_primos_de_lista() takes 1 positional argument but 2 were given",
     "output_type": "error",
     "traceback": [
      "\u001b[0;31m---------------------------------------------------------------------------\u001b[0m",
      "\u001b[0;31mTypeError\u001b[0m                                 Traceback (most recent call last)",
      "\u001b[1;32m/Users/eduardomoralesramirez/Documents/Python-Prep_HC1_010_06-main/apuntes.ipynb Cell 14'\u001b[0m in \u001b[0;36m<cell line: 1>\u001b[0;34m()\u001b[0m\n\u001b[0;32m----> <a href='vscode-notebook-cell:/Users/eduardomoralesramirez/Documents/Python-Prep_HC1_010_06-main/apuntes.ipynb#ch0000013?line=0'>1</a>\u001b[0m \u001b[39mprint\u001b[39m(extrae_primos_de_lista(\u001b[39m1\u001b[39;49m,\u001b[39m11\u001b[39;49m))\n\u001b[1;32m      <a href='vscode-notebook-cell:/Users/eduardomoralesramirez/Documents/Python-Prep_HC1_010_06-main/apuntes.ipynb#ch0000013?line=1'>2</a>\u001b[0m \u001b[39mprint\u001b[39m(extrae_primos_de_lista(\u001b[39m66\u001b[39m,\u001b[39m77\u001b[39m))\n",
      "\u001b[0;31mTypeError\u001b[0m: extrae_primos_de_lista() takes 1 positional argument but 2 were given"
     ]
    }
   ],
   "source": [
    "print(extrae_primos_de_lista(1,11))\n",
    "print(extrae_primos_de_lista(66,77))\n",
    "#print(extrae_primo(\"0\",0))\n",
    "#print(extrae_primo(\"0\",0))\n",
    "#print(extrae_primo(\"0\",0))"
   ]
  },
  {
   "cell_type": "code",
   "execution_count": null,
   "metadata": {},
   "outputs": [],
   "source": [
    "def valor_modal(lista):\n",
    "    if type(lista) != list:\n",
    "        valor=None\n",
    "        veces=None\n",
    "    else:\n",
    "        valor = []\n",
    "        veces = []\n",
    "        if len(lista) == 0:\n",
    "             valor=None\n",
    "             veces=None\n",
    "        else:\n",
    "            for elemento in lista:\n",
    "                if elemento in lista:\n",
    "                i = valor.index(elemento)\n",
    "                veces[i] += 1\n",
    "            else:\n",
    "                valor.append(elemento)\n",
    "                veces.append(1)\n",
    "        moda = valor[0]\n",
    "        maximo = veces[0]\n",
    "        for i, elemento in enumerate(lista_unicos):\n",
    "            if lista_repeticiones[i] > maximo:\n",
    "                moda = lista_unicos[i]\n",
    "                maximo = lista_repeticiones[i]\n",
    "        return moda, maximo"
   ]
  },
  {
   "cell_type": "code",
   "execution_count": 16,
   "metadata": {},
   "outputs": [],
   "source": [
    " def valor_modal(lista):\n",
    "        lista_unicos = []\n",
    "        lista_repeticiones = []\n",
    "        for elemento in lista:\n",
    "            if elemento in lista_unicos:\n",
    "                i = lista_unicos.index(elemento)\n",
    "                lista_repeticiones[i] += 1\n",
    "            else:\n",
    "                lista_unicos.append(elemento)\n",
    "                lista_repeticiones.append(1)\n",
    "        moda = lista_unicos[0]\n",
    "        maximo = lista_repeticiones[0]\n",
    "        for i, elemento in enumerate(lista_unicos):\n",
    "            if lista_repeticiones[i] > maximo:\n",
    "                moda = lista_unicos[i]\n",
    "                maximo = lista_repeticiones[i]\n",
    "        return moda, maximo"
   ]
  },
  {
   "cell_type": "code",
   "execution_count": 15,
   "metadata": {},
   "outputs": [
    {
     "ename": "TypeError",
     "evalue": "'function' object is not subscriptable",
     "output_type": "error",
     "traceback": [
      "\u001b[0;31m---------------------------------------------------------------------------\u001b[0m",
      "\u001b[0;31mTypeError\u001b[0m                                 Traceback (most recent call last)",
      "\u001b[1;32m/Users/eduardomoralesramirez/Documents/Python-Prep_HC1_010_06-main/apuntes.ipynb Cell 18'\u001b[0m in \u001b[0;36m<cell line: 1>\u001b[0;34m()\u001b[0m\n\u001b[0;32m----> <a href='vscode-notebook-cell:/Users/eduardomoralesramirez/Documents/Python-Prep_HC1_010_06-main/apuntes.ipynb#ch0000017?line=0'>1</a>\u001b[0m \u001b[39mprint\u001b[39m(valor_modal[(\u001b[39m10\u001b[39;49m,\u001b[39m1\u001b[39;49m),(\u001b[39m11\u001b[39;49m,\u001b[39m2\u001b[39;49m),(\u001b[39m12\u001b[39;49m,\u001b[39m1\u001b[39;49m),(\u001b[39m15\u001b[39;49m,\u001b[39m1\u001b[39;49m),(\u001b[39m17\u001b[39;49m,\u001b[39m1\u001b[39;49m),(\u001b[39m20\u001b[39;49m,\u001b[39m2\u001b[39;49m)])\n\u001b[1;32m      <a href='vscode-notebook-cell:/Users/eduardomoralesramirez/Documents/Python-Prep_HC1_010_06-main/apuntes.ipynb#ch0000017?line=1'>2</a>\u001b[0m \u001b[39mprint\u001b[39m(valor_modal[(\u001b[39m'\u001b[39m\u001b[39mhola\u001b[39m\u001b[39m'\u001b[39m,\u001b[39m2\u001b[39m),(\u001b[39m'\u001b[39m\u001b[39mmundo\u001b[39m\u001b[39m'\u001b[39m,\u001b[39m1\u001b[39m)])\n\u001b[1;32m      <a href='vscode-notebook-cell:/Users/eduardomoralesramirez/Documents/Python-Prep_HC1_010_06-main/apuntes.ipynb#ch0000017?line=2'>3</a>\u001b[0m \u001b[39mprint\u001b[39m(valor_modal((\u001b[39m1\u001b[39m,\u001b[39m2\u001b[39m,\u001b[39m3\u001b[39m,\u001b[39m3\u001b[39m)))\n",
      "\u001b[0;31mTypeError\u001b[0m: 'function' object is not subscriptable"
     ]
    }
   ],
   "source": [
    "\n",
    "print(valor_modal[(10,1),(11,2),(12,1),(15,1),(17,1),(20,2)])\n",
    "print(valor_modal[('hola',2),('mundo',1)])\n",
    "print(valor_modal((1,2,3,3)))\n",
    "\n",
    "\n",
    "\n"
   ]
  },
  {
   "cell_type": "code",
   "execution_count": 36,
   "metadata": {},
   "outputs": [],
   "source": [
    "def repetidosprueba(lista):\n",
    "    if type(lista) != list:\n",
    "            valor=None\n",
    "            veces=None\n",
    "    else:\n",
    "        valor = []\n",
    "        veces = []\n",
    "        if len(lista) == 0:\n",
    "            valor=None\n",
    "            veces=None\n",
    "        else:\n",
    "            listaunica = list(listconcat(lista))\n",
    "    return veces,valor"
   ]
  },
  {
   "cell_type": "code",
   "execution_count": 33,
   "metadata": {},
   "outputs": [
    {
     "ename": "TypeError",
     "evalue": "'function' object is not subscriptable",
     "output_type": "error",
     "traceback": [
      "\u001b[0;31m---------------------------------------------------------------------------\u001b[0m",
      "\u001b[0;31mTypeError\u001b[0m                                 Traceback (most recent call last)",
      "\u001b[1;32m/Users/eduardomoralesramirez/Documents/Python-Prep_HC1_010_06-main/apuntes.ipynb Cell 20'\u001b[0m in \u001b[0;36m<cell line: 1>\u001b[0;34m()\u001b[0m\n\u001b[0;32m----> <a href='vscode-notebook-cell:/Users/eduardomoralesramirez/Documents/Python-Prep_HC1_010_06-main/apuntes.ipynb#ch0000020?line=0'>1</a>\u001b[0m \u001b[39mprint\u001b[39m(repetidosprueba[(\u001b[39m10\u001b[39;49m,\u001b[39m1\u001b[39;49m),(\u001b[39m11\u001b[39;49m,\u001b[39m2\u001b[39;49m),(\u001b[39m12\u001b[39;49m,\u001b[39m1\u001b[39;49m),(\u001b[39m15\u001b[39;49m,\u001b[39m1\u001b[39;49m),(\u001b[39m17\u001b[39;49m,\u001b[39m1\u001b[39;49m),(\u001b[39m20\u001b[39;49m,\u001b[39m2\u001b[39;49m)])\n\u001b[1;32m      <a href='vscode-notebook-cell:/Users/eduardomoralesramirez/Documents/Python-Prep_HC1_010_06-main/apuntes.ipynb#ch0000020?line=1'>2</a>\u001b[0m \u001b[39mprint\u001b[39m(repetidosprueba[(\u001b[39m'\u001b[39m\u001b[39mhola\u001b[39m\u001b[39m'\u001b[39m,\u001b[39m2\u001b[39m),(\u001b[39m'\u001b[39m\u001b[39mmundo\u001b[39m\u001b[39m'\u001b[39m,\u001b[39m1\u001b[39m)])\n\u001b[1;32m      <a href='vscode-notebook-cell:/Users/eduardomoralesramirez/Documents/Python-Prep_HC1_010_06-main/apuntes.ipynb#ch0000020?line=2'>3</a>\u001b[0m \u001b[39mprint\u001b[39m(repetidosprueba((\u001b[39m1\u001b[39m,\u001b[39m2\u001b[39m,\u001b[39m3\u001b[39m,\u001b[39m3\u001b[39m)))\n",
      "\u001b[0;31mTypeError\u001b[0m: 'function' object is not subscriptable"
     ]
    }
   ],
   "source": [
    "print(repetidosprueba[(10,1),(11,2),(12,1),(15,1),(17,1),(20,2)])\n",
    "print(repetidosprueba[('hola',2),('mundo',1)])\n",
    "print(repetidosprueba((1,2,3,3)))\n",
    "\n",
    "qwerasd = ((10,1),(11,2),(12,1),(15,1),(17,1),(20,2))"
   ]
  },
  {
   "cell_type": "code",
   "execution_count": 46,
   "metadata": {},
   "outputs": [],
   "source": [
    "listasinpare = list(listconcat(qwerasd))"
   ]
  },
  {
   "cell_type": "code",
   "execution_count": 44,
   "metadata": {},
   "outputs": [],
   "source": [
    "qwerasd = ((10,1),(11,2),(12,1),(15,1),(17,1),(20,2))\n",
    "\n",
    "def listconcat(lst):\n",
    "    for elem in lst:\n",
    "        if type(elem) in (tuple, list):\n",
    "            for i in listconcat (elem):\n",
    "                yield i\n",
    "        else:\n",
    "            yield elem"
   ]
  },
  {
   "cell_type": "code",
   "execution_count": 41,
   "metadata": {},
   "outputs": [],
   "source": [
    "def listconcat(lst):\n",
    "    for elem in lst:\n",
    "        if type(elem) in (tuple, list):\n",
    "            for i in listconcat (elem):\n",
    "                yield i\n",
    "        else:\n",
    "            yield elem"
   ]
  },
  {
   "cell_type": "code",
   "execution_count": 48,
   "metadata": {},
   "outputs": [
    {
     "data": {
      "text/plain": [
       "[10, 1, 11, 2, 12, 1, 15, 1, 17, 1, 20, 2]"
      ]
     },
     "execution_count": 48,
     "metadata": {},
     "output_type": "execute_result"
    }
   ],
   "source": [
    "listasinpare"
   ]
  }
 ],
 "metadata": {
  "kernelspec": {
   "display_name": "Python 3.9.6 64-bit",
   "language": "python",
   "name": "python3"
  },
  "language_info": {
   "codemirror_mode": {
    "name": "ipython",
    "version": 3
   },
   "file_extension": ".py",
   "mimetype": "text/x-python",
   "name": "python",
   "nbconvert_exporter": "python",
   "pygments_lexer": "ipython3",
   "version": "3.9.6"
  },
  "orig_nbformat": 4,
  "vscode": {
   "interpreter": {
    "hash": "aee8b7b246df8f9039afb4144a1f6fd8d2ca17a180786b69acc140d282b71a49"
   }
  }
 },
 "nbformat": 4,
 "nbformat_minor": 2
}
